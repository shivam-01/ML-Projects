{
 "cells": [
  {
   "cell_type": "markdown",
   "metadata": {},
   "source": [
    "# Naive Bayes Classification using Gaussian Distribution"
   ]
  },
  {
   "cell_type": "code",
   "execution_count": 1,
   "metadata": {},
   "outputs": [],
   "source": [
    "# Importing Necessary Libraries\n",
    "import numpy as np\n",
    "import pandas as pd\n",
    "import matplotlib.pyplot as plt\n",
    "%matplotlib inline"
   ]
  },
  {
   "cell_type": "code",
   "execution_count": 2,
   "metadata": {},
   "outputs": [
    {
     "name": "stdout",
     "output_type": "stream",
     "text": [
      "(150, 5)\n"
     ]
    }
   ],
   "source": [
    "# Reading Data\n",
    "data = pd.read_csv('iris.csv')\n",
    "print(data.shape)\n",
    "data['species'] = pd.factorize(data['species'])[0] + 1 # converting categorical values to int\n",
    "split = int(data.shape[0] * 0.7) # split size\n",
    "data = data.values.tolist() # converting dataframe to list\n",
    "\n",
    "np.random.shuffle(data) # shuffle data to make it random\n",
    "train_data = data[:split] # train data\n",
    "test_data = data[split:] # test data"
   ]
  },
  {
   "cell_type": "code",
   "execution_count": 3,
   "metadata": {},
   "outputs": [],
   "source": [
    "# Seperating Data\n",
    "def separate(data):\n",
    "    classes = dict()\n",
    "    for i in range(len(data)):\n",
    "        row = data[i]\n",
    "        classVal = row[-1]\n",
    "        if classVal not in classes:\n",
    "            classes[classVal] = list()\n",
    "        classes[classVal].append(row[:-1])\n",
    "    return classes"
   ]
  },
  {
   "cell_type": "code",
   "execution_count": 4,
   "metadata": {},
   "outputs": [],
   "source": [
    "# Calculate statistics\n",
    "def cal(data):\n",
    "    cal = [(np.mean(feature), np.std(feature), len(feature)) for feature in zip(*data)]\n",
    "    return cal"
   ]
  },
  {
   "cell_type": "code",
   "execution_count": 5,
   "metadata": {},
   "outputs": [],
   "source": [
    "# Fit the data\n",
    "def fit(data):\n",
    "    classes = separate(data)\n",
    "    summaries = dict()\n",
    "    for classVal, rows in classes.items():\n",
    "        summaries[classVal] = cal(rows)\n",
    "    return summaries"
   ]
  },
  {
   "cell_type": "code",
   "execution_count": 6,
   "metadata": {},
   "outputs": [],
   "source": [
    "# Gaussian Distribution\n",
    "def gaussianDist(x, mean, std):\n",
    "    exponent = np.exp(-((x - mean) ** 2 / (2 * std ** 2 )))\n",
    "    return 1 / (np.sqrt(2 * np.pi * std)) * exponent"
   ]
  },
  {
   "cell_type": "code",
   "execution_count": 7,
   "metadata": {},
   "outputs": [],
   "source": [
    "# Calculate Posterior Probability\n",
    "def cal_prob(summaries, row):\n",
    "    total_rows = sum([summaries[label][0][2] for label in summaries])\n",
    "    prob = dict()\n",
    "    for classVal, classData in summaries.items():\n",
    "        prob[classVal] = summaries[classVal][0][2]/float(total_rows)\n",
    "        for i in range(len(classData)):\n",
    "            mean, std, count = classData[i]\n",
    "            prob[classVal] *= gaussianDist(row[i], mean, std)\n",
    "    return prob"
   ]
  },
  {
   "cell_type": "code",
   "execution_count": 8,
   "metadata": {},
   "outputs": [],
   "source": [
    "# Predict the class for a given row\n",
    "def predict(model, row):\n",
    "    probabilities = cal_prob(model, row)\n",
    "    best_label, best_prob = None, -1\n",
    "    for classVal, probability in probabilities.items():\n",
    "        if best_label is None or probability > best_prob:\n",
    "            best_prob = probability\n",
    "            best_label = classVal\n",
    "    return best_label"
   ]
  },
  {
   "cell_type": "code",
   "execution_count": 9,
   "metadata": {},
   "outputs": [],
   "source": [
    "# Accuracy Metric function\n",
    "def accuracy_metric(actual, predicted):\n",
    "    correct = 0\n",
    "    for i in range(len(actual)):\n",
    "        if actual[i] == predicted[i]:\n",
    "            correct += 1\n",
    "    return correct / float(len(actual)) * 100.0"
   ]
  },
  {
   "cell_type": "code",
   "execution_count": 10,
   "metadata": {},
   "outputs": [],
   "source": [
    "# Naive Bayes\n",
    "model = fit(train_data)\n",
    "predictions = []\n",
    "for row in test_data:\n",
    "    output = predict(model, row)\n",
    "    predictions.append(output)"
   ]
  },
  {
   "cell_type": "code",
   "execution_count": 11,
   "metadata": {},
   "outputs": [
    {
     "name": "stdout",
     "output_type": "stream",
     "text": [
      "Accuracy : 97.77777777777777\n"
     ]
    }
   ],
   "source": [
    "#pred = naive_bayes(train_data, test_data)\n",
    "actual = [row[4] for row in test_data]\n",
    "print(\"Accuracy :\",accuracy_metric(actual,predictions))"
   ]
  },
  {
   "cell_type": "markdown",
   "metadata": {},
   "source": [
    "#### Iris-virginica : 1,  Iris-versicolor : 2,  Iris-setosa : 3"
   ]
  },
  {
   "cell_type": "code",
   "execution_count": 12,
   "metadata": {},
   "outputs": [
    {
     "name": "stdout",
     "output_type": "stream",
     "text": [
      "Data=[5.7, 2.9, 4.2, 1.3], Prediction: 2\n"
     ]
    }
   ],
   "source": [
    "row = [5.7,2.9,4.2,1.3]\n",
    "# predict the label\n",
    "label = predict(model, row)\n",
    "print('Data=%s, Prediction: %s' % (row, int(label)))"
   ]
  },
  {
   "cell_type": "markdown",
   "metadata": {},
   "source": [
    "# Using Scikit Learn"
   ]
  },
  {
   "cell_type": "code",
   "execution_count": 13,
   "metadata": {},
   "outputs": [
    {
     "name": "stdout",
     "output_type": "stream",
     "text": [
      "Gaussian Naive Bayes model accuracy : 95.0\n"
     ]
    }
   ],
   "source": [
    "# load the iris dataset \n",
    "from sklearn.datasets import load_iris \n",
    "iris = load_iris() \n",
    "  \n",
    "# store the feature matrix (X) and response vector (y) \n",
    "X = iris.data \n",
    "y = iris.target \n",
    "  \n",
    "# split data into train and test sets\n",
    "from sklearn.model_selection import train_test_split \n",
    "X_train, X_test, y_train, y_test = train_test_split(X, y, test_size=0.4, random_state=1) \n",
    "  \n",
    "# train the model on training set \n",
    "from sklearn.naive_bayes import GaussianNB \n",
    "gnb = GaussianNB() \n",
    "gnb.fit(X_train, y_train) \n",
    "  \n",
    "# make predictions on the testing set \n",
    "y_pred = gnb.predict(X_test) \n",
    "  \n",
    "# comparing actual response values (y_test) with predicted response values (y_pred) \n",
    "from sklearn import metrics \n",
    "print(\"Gaussian Naive Bayes model accuracy :\", metrics.accuracy_score(y_test, y_pred)*100)\n"
   ]
  }
 ],
 "metadata": {
  "kernelspec": {
   "display_name": "Python 3",
   "language": "python",
   "name": "python3"
  },
  "language_info": {
   "codemirror_mode": {
    "name": "ipython",
    "version": 3
   },
   "file_extension": ".py",
   "mimetype": "text/x-python",
   "name": "python",
   "nbconvert_exporter": "python",
   "pygments_lexer": "ipython3",
   "version": "3.7.4"
  }
 },
 "nbformat": 4,
 "nbformat_minor": 2
}
