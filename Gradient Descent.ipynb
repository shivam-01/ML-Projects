{
 "cells": [
  {
   "cell_type": "markdown",
   "metadata": {},
   "source": [
    "# Gradient Descent\n",
    "\n",
    "''' Gradient descent is an optimization algorithm used to minimize cost function by iteratively moving in the direction of steepest descent as defined by the negative of the gradient. '''"
   ]
  },
  {
   "cell_type": "code",
   "execution_count": 1,
   "metadata": {},
   "outputs": [],
   "source": [
    "# Importing Necessary Libraries\n",
    "import numpy as np\n",
    "import pandas as pd\n",
    "import matplotlib.pyplot as plt\n",
    "%matplotlib inline"
   ]
  },
  {
   "cell_type": "code",
   "execution_count": 2,
   "metadata": {},
   "outputs": [
    {
     "name": "stdout",
     "output_type": "stream",
     "text": [
      "(100, 2)\n"
     ]
    },
    {
     "data": {
      "text/html": [
       "<div>\n",
       "<style scoped>\n",
       "    .dataframe tbody tr th:only-of-type {\n",
       "        vertical-align: middle;\n",
       "    }\n",
       "\n",
       "    .dataframe tbody tr th {\n",
       "        vertical-align: top;\n",
       "    }\n",
       "\n",
       "    .dataframe thead th {\n",
       "        text-align: right;\n",
       "    }\n",
       "</style>\n",
       "<table border=\"1\" class=\"dataframe\">\n",
       "  <thead>\n",
       "    <tr style=\"text-align: right;\">\n",
       "      <th></th>\n",
       "      <th>x</th>\n",
       "      <th>y</th>\n",
       "    </tr>\n",
       "  </thead>\n",
       "  <tbody>\n",
       "    <tr>\n",
       "      <td>0</td>\n",
       "      <td>32.502345</td>\n",
       "      <td>31.707006</td>\n",
       "    </tr>\n",
       "    <tr>\n",
       "      <td>1</td>\n",
       "      <td>53.426804</td>\n",
       "      <td>68.777596</td>\n",
       "    </tr>\n",
       "    <tr>\n",
       "      <td>2</td>\n",
       "      <td>61.530358</td>\n",
       "      <td>62.562382</td>\n",
       "    </tr>\n",
       "    <tr>\n",
       "      <td>3</td>\n",
       "      <td>47.475640</td>\n",
       "      <td>71.546632</td>\n",
       "    </tr>\n",
       "    <tr>\n",
       "      <td>4</td>\n",
       "      <td>59.813208</td>\n",
       "      <td>87.230925</td>\n",
       "    </tr>\n",
       "  </tbody>\n",
       "</table>\n",
       "</div>"
      ],
      "text/plain": [
       "           x          y\n",
       "0  32.502345  31.707006\n",
       "1  53.426804  68.777596\n",
       "2  61.530358  62.562382\n",
       "3  47.475640  71.546632\n",
       "4  59.813208  87.230925"
      ]
     },
     "execution_count": 2,
     "metadata": {},
     "output_type": "execute_result"
    }
   ],
   "source": [
    "# Reading Data\n",
    "data = pd.read_csv('data.csv')\n",
    "print(data.shape)\n",
    "data.head()"
   ]
  },
  {
   "cell_type": "code",
   "execution_count": 3,
   "metadata": {},
   "outputs": [],
   "source": [
    "# Cost Function\n",
    "def cost_function(x, y, weight, bias):\n",
    "    n = len(x)\n",
    "    total_error = 0.0\n",
    "    for i in range(n):\n",
    "        total_error += (y[i] - (weight*x[i] + bias))**2\n",
    "    return total_error / float(n)"
   ]
  },
  {
   "cell_type": "code",
   "execution_count": 4,
   "metadata": {},
   "outputs": [],
   "source": [
    "# Gradient Descent\n",
    "def update_weights(x, y, weight, bias, alpha):\n",
    "    weight_deriv = 0\n",
    "    bias_deriv = 0\n",
    "    n = len(x)\n",
    "\n",
    "    for i in range(n):\n",
    "        \n",
    "        # Calculate partial derivatives\n",
    "        # -2x(y - (mx + b))\n",
    "        weight_deriv += -(2/float(n)) * x[i] * (y[i] - (weight*x[i] + bias))\n",
    "\n",
    "        # -2(y - (mx + b))\n",
    "        bias_deriv += -(2/float(n))*(y[i] - (weight*x[i] + bias))\n",
    "\n",
    "    # We subtract because the derivatives point in direction of steepest ascent\n",
    "    weight -= weight_deriv * alpha\n",
    "    bias -= bias_deriv  * alpha\n",
    "\n",
    "    return weight, bias"
   ]
  },
  {
   "cell_type": "code",
   "execution_count": 5,
   "metadata": {},
   "outputs": [],
   "source": [
    "# Training\n",
    "def train(x, y, weight, bias, alpha, epochs):\n",
    "\n",
    "    for epoch in range(epochs):\n",
    "        weight,bias = update_weights(x, y, weight, bias, alpha)\n",
    "\n",
    "        #Calculate cost for auditing purposes\n",
    "        cost = cost_function(x, y, weight, bias)\n",
    "\n",
    "        # Log Progress\n",
    "        if epoch % 10 == 0:\n",
    "            print(\"epoch : {:d}    weight = {:.2f}    bias = {:.4f}    cost = {}\".format(epoch, weight, bias, cost))\n",
    "        \n",
    "        # Optimization\n",
    "        if cost < 1e-6 :\n",
    "            break\n",
    "\n",
    "    return weight, bias,"
   ]
  },
  {
   "cell_type": "code",
   "execution_count": 6,
   "metadata": {},
   "outputs": [
    {
     "name": "stdout",
     "output_type": "stream",
     "text": [
      "epoch : 0    weight = 0.96    bias = 0.2601    cost = 770.467073922352\n",
      "epoch : 10    weight = 1.47    bias = 0.2708    cost = 112.50823441111345\n",
      "epoch : 20    weight = 1.47    bias = 0.2714    cost = 112.50722546986779\n",
      "epoch : 30    weight = 1.47    bias = 0.2719    cost = 112.50688586894816\n",
      "epoch : 40    weight = 1.47    bias = 0.2725    cost = 112.50654631996994\n",
      "epoch : 50    weight = 1.47    bias = 0.2731    cost = 112.5062068222445\n",
      "epoch : 60    weight = 1.47    bias = 0.2737    cost = 112.50586737576437\n",
      "epoch : 70    weight = 1.47    bias = 0.2743    cost = 112.50552798052158\n",
      "epoch : 80    weight = 1.47    bias = 0.2748    cost = 112.50518863650845\n",
      "epoch : 90    weight = 1.47    bias = 0.2754    cost = 112.50484934371735\n",
      "epoch : 100    weight = 1.47    bias = 0.2760    cost = 112.50451010214043\n",
      "epoch : 110    weight = 1.47    bias = 0.2766    cost = 112.50417091177007\n",
      "epoch : 120    weight = 1.47    bias = 0.2772    cost = 112.50383177259842\n",
      "epoch : 130    weight = 1.47    bias = 0.2778    cost = 112.50349268461783\n",
      "epoch : 140    weight = 1.47    bias = 0.2783    cost = 112.50315364782053\n",
      "epoch : 150    weight = 1.47    bias = 0.2789    cost = 112.50281466219889\n",
      "epoch : 160    weight = 1.47    bias = 0.2795    cost = 112.50247572774501\n",
      "epoch : 170    weight = 1.47    bias = 0.2801    cost = 112.50213684445126\n",
      "epoch : 180    weight = 1.47    bias = 0.2807    cost = 112.50179801230992\n",
      "epoch : 190    weight = 1.47    bias = 0.2813    cost = 112.50145923131336\n",
      "epoch : 200    weight = 1.47    bias = 0.2818    cost = 112.50112050145366\n",
      "epoch : 210    weight = 1.47    bias = 0.2824    cost = 112.5007818227233\n",
      "epoch : 220    weight = 1.47    bias = 0.2830    cost = 112.50044319511443\n",
      "epoch : 230    weight = 1.47    bias = 0.2836    cost = 112.50010461861945\n",
      "epoch : 240    weight = 1.47    bias = 0.2842    cost = 112.49976609323052\n",
      "epoch : 250    weight = 1.47    bias = 0.2847    cost = 112.49942761893993\n",
      "epoch : 260    weight = 1.47    bias = 0.2853    cost = 112.49908919574011\n",
      "epoch : 270    weight = 1.47    bias = 0.2859    cost = 112.49875082362323\n",
      "epoch : 280    weight = 1.47    bias = 0.2865    cost = 112.4984125025815\n",
      "epoch : 290    weight = 1.47    bias = 0.2871    cost = 112.4980742326075\n",
      "epoch : 300    weight = 1.47    bias = 0.2877    cost = 112.49773601369316\n",
      "epoch : 310    weight = 1.47    bias = 0.2882    cost = 112.49739784583106\n",
      "epoch : 320    weight = 1.47    bias = 0.2888    cost = 112.4970597290133\n",
      "epoch : 330    weight = 1.47    bias = 0.2894    cost = 112.49672166323228\n",
      "epoch : 340    weight = 1.47    bias = 0.2900    cost = 112.49638364848032\n",
      "epoch : 350    weight = 1.47    bias = 0.2906    cost = 112.49604568474962\n",
      "epoch : 360    weight = 1.47    bias = 0.2911    cost = 112.49570777203272\n",
      "epoch : 370    weight = 1.47    bias = 0.2917    cost = 112.49536991032151\n",
      "epoch : 380    weight = 1.47    bias = 0.2923    cost = 112.49503209960854\n",
      "epoch : 390    weight = 1.47    bias = 0.2929    cost = 112.49469433988614\n",
      "epoch : 400    weight = 1.47    bias = 0.2935    cost = 112.49435663114649\n",
      "epoch : 410    weight = 1.47    bias = 0.2940    cost = 112.49401897338204\n",
      "epoch : 420    weight = 1.47    bias = 0.2946    cost = 112.49368136658494\n",
      "epoch : 430    weight = 1.47    bias = 0.2952    cost = 112.49334381074766\n",
      "epoch : 440    weight = 1.47    bias = 0.2958    cost = 112.49300630586232\n",
      "epoch : 450    weight = 1.47    bias = 0.2964    cost = 112.49266885192142\n",
      "epoch : 460    weight = 1.47    bias = 0.2969    cost = 112.4923314489172\n",
      "epoch : 470    weight = 1.47    bias = 0.2975    cost = 112.49199409684186\n",
      "epoch : 480    weight = 1.47    bias = 0.2981    cost = 112.49165679568783\n",
      "epoch : 490    weight = 1.47    bias = 0.2987    cost = 112.49131954544741\n",
      "epoch : 500    weight = 1.47    bias = 0.2993    cost = 112.49098234611287\n",
      "epoch : 510    weight = 1.47    bias = 0.2999    cost = 112.49064519767667\n",
      "epoch : 520    weight = 1.47    bias = 0.3004    cost = 112.49030810013093\n",
      "epoch : 530    weight = 1.47    bias = 0.3010    cost = 112.48997105346812\n",
      "epoch : 540    weight = 1.47    bias = 0.3016    cost = 112.48963405768039\n",
      "epoch : 550    weight = 1.47    bias = 0.3022    cost = 112.48929711276018\n",
      "epoch : 560    weight = 1.47    bias = 0.3028    cost = 112.48896021869992\n",
      "epoch : 570    weight = 1.47    bias = 0.3033    cost = 112.48862337549166\n",
      "epoch : 580    weight = 1.47    bias = 0.3039    cost = 112.48828658312802\n",
      "epoch : 590    weight = 1.47    bias = 0.3045    cost = 112.48794984160102\n",
      "epoch : 600    weight = 1.47    bias = 0.3051    cost = 112.4876131509032\n",
      "epoch : 610    weight = 1.47    bias = 0.3057    cost = 112.48727651102693\n",
      "epoch : 620    weight = 1.47    bias = 0.3062    cost = 112.48693992196435\n",
      "epoch : 630    weight = 1.47    bias = 0.3068    cost = 112.48660338370787\n",
      "epoch : 640    weight = 1.47    bias = 0.3074    cost = 112.48626689624987\n",
      "epoch : 650    weight = 1.47    bias = 0.3080    cost = 112.48593045958265\n",
      "epoch : 660    weight = 1.47    bias = 0.3086    cost = 112.48559407369851\n",
      "epoch : 670    weight = 1.47    bias = 0.3091    cost = 112.48525773858992\n",
      "epoch : 680    weight = 1.47    bias = 0.3097    cost = 112.48492145424892\n",
      "epoch : 690    weight = 1.47    bias = 0.3103    cost = 112.48458522066824\n",
      "epoch : 700    weight = 1.47    bias = 0.3109    cost = 112.48424903783987\n",
      "epoch : 710    weight = 1.47    bias = 0.3115    cost = 112.48391290575633\n",
      "epoch : 720    weight = 1.47    bias = 0.3120    cost = 112.48357682440995\n",
      "epoch : 730    weight = 1.47    bias = 0.3126    cost = 112.48324079379304\n",
      "epoch : 740    weight = 1.47    bias = 0.3132    cost = 112.48290481389802\n",
      "epoch : 750    weight = 1.47    bias = 0.3138    cost = 112.48256888471703\n",
      "epoch : 760    weight = 1.47    bias = 0.3144    cost = 112.48223300624258\n",
      "epoch : 770    weight = 1.47    bias = 0.3149    cost = 112.48189717846702\n",
      "epoch : 780    weight = 1.47    bias = 0.3155    cost = 112.48156140138268\n",
      "epoch : 790    weight = 1.47    bias = 0.3161    cost = 112.4812256749818\n",
      "epoch : 800    weight = 1.47    bias = 0.3167    cost = 112.4808899992569\n",
      "epoch : 810    weight = 1.47    bias = 0.3172    cost = 112.48055437420027\n",
      "epoch : 820    weight = 1.47    bias = 0.3178    cost = 112.48021879980419\n",
      "epoch : 830    weight = 1.47    bias = 0.3184    cost = 112.47988327606109\n",
      "epoch : 840    weight = 1.47    bias = 0.3190    cost = 112.47954780296324\n",
      "epoch : 850    weight = 1.47    bias = 0.3196    cost = 112.47921238050309\n",
      "epoch : 860    weight = 1.47    bias = 0.3201    cost = 112.4788770086729\n",
      "epoch : 870    weight = 1.47    bias = 0.3207    cost = 112.47854168746524\n",
      "epoch : 880    weight = 1.47    bias = 0.3213    cost = 112.47820641687218\n",
      "epoch : 890    weight = 1.47    bias = 0.3219    cost = 112.47787119688623\n",
      "epoch : 900    weight = 1.47    bias = 0.3225    cost = 112.4775360274999\n",
      "epoch : 910    weight = 1.47    bias = 0.3230    cost = 112.47720090870519\n",
      "epoch : 920    weight = 1.47    bias = 0.3236    cost = 112.47686584049468\n",
      "epoch : 930    weight = 1.47    bias = 0.3242    cost = 112.47653082286081\n",
      "epoch : 940    weight = 1.47    bias = 0.3248    cost = 112.47619585579585\n",
      "epoch : 950    weight = 1.47    bias = 0.3254    cost = 112.47586093929215\n",
      "epoch : 960    weight = 1.47    bias = 0.3259    cost = 112.475526073342\n",
      "epoch : 970    weight = 1.47    bias = 0.3265    cost = 112.47519125793802\n",
      "epoch : 980    weight = 1.47    bias = 0.3271    cost = 112.47485649307242\n",
      "epoch : 990    weight = 1.47    bias = 0.3277    cost = 112.47452177873748\n",
      "[1.4730417066195385, 0.32818614936915863]\n"
     ]
    }
   ],
   "source": [
    "# Initializing parameters\n",
    "x = data['x'].values\n",
    "y = data['y'].values\n",
    "w = 0.45\n",
    "b = 0.25\n",
    "alpha = 0.0001 # hyperparameters\n",
    "epochs = 1000 # hyperparameters\n",
    "[w, b] = train(x, y, w, b, alpha, epochs)\n",
    "print([w, b])"
   ]
  },
  {
   "cell_type": "code",
   "execution_count": 7,
   "metadata": {},
   "outputs": [
    {
     "data": {
      "image/png": "[encoded data removed]",
      "text/plain": [
       "<Figure size 864x648 with 1 Axes>"
      ]
     },
     "metadata": {
      "needs_background": "light"
     },
     "output_type": "display_data"
    }
   ],
   "source": [
    "# Visualising\n",
    "max_x = np.max(data['x'].values) + 100\n",
    "min_x = np.min(data['x'].values) - 100\n",
    "# Calculating line values x and y\n",
    "x = np.linspace(min_x, max_x, 1000)\n",
    "y = b + w * x\n",
    "plt.rcParams['figure.figsize'] = (12.0, 9.0)\n",
    "# Ploting Scatter Points\n",
    "plt.scatter(data['x'].values, data['y'].values, color = \"m\", label='Scatter Plot')\n",
    "# Ploting Line\n",
    "plt.plot(x, y, color = 'g', label='Regression Line')\n",
    "\n",
    "plt.xlabel('X')\n",
    "plt.ylabel('Y')\n",
    "plt.legend()\n",
    "plt.show()"
   ]
  }
 ],
 "metadata": {
  "kernelspec": {
   "display_name": "Python 3",
   "language": "python",
   "name": "python3"
  },
  "language_info": {
   "codemirror_mode": {
    "name": "ipython",
    "version": 3
   },
   "file_extension": ".py",
   "mimetype": "text/x-python",
   "name": "python",
   "nbconvert_exporter": "python",
   "pygments_lexer": "ipython3",
   "version": "3.7.4"
  }
 },
 "nbformat": 4,
 "nbformat_minor": 2
}
