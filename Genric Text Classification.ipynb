{
 "cells": [
  {
   "cell_type": "markdown",
   "metadata": {},
   "source": [
    "# Text Classification using Naive Bayes"
   ]
  },
  {
   "cell_type": "markdown",
   "metadata": {},
   "source": [
    "### Sentiment Analysis :\n",
    "*Sentiment Analysis implemented using Bag of words model.*"
   ]
  },
  {
   "cell_type": "code",
   "execution_count": 1,
   "metadata": {},
   "outputs": [],
   "source": [
    "# Importing libraries\n",
    "import numpy as np\n",
    "import pandas as pd\n",
    "from collections import Counter, defaultdict\n",
    "import re\n",
    "import math"
   ]
  },
  {
   "cell_type": "code",
   "execution_count": 2,
   "metadata": {},
   "outputs": [
    {
     "name": "stdout",
     "output_type": "stream",
     "text": [
      "(12, 2)\n"
     ]
    },
    {
     "data": {
      "text/html": [
       "<div>\n",
       "<style scoped>\n",
       "    .dataframe tbody tr th:only-of-type {\n",
       "        vertical-align: middle;\n",
       "    }\n",
       "\n",
       "    .dataframe tbody tr th {\n",
       "        vertical-align: top;\n",
       "    }\n",
       "\n",
       "    .dataframe thead th {\n",
       "        text-align: right;\n",
       "    }\n",
       "</style>\n",
       "<table border=\"1\" class=\"dataframe\">\n",
       "  <thead>\n",
       "    <tr style=\"text-align: right;\">\n",
       "      <th></th>\n",
       "      <th>sentiment</th>\n",
       "      <th>review</th>\n",
       "    </tr>\n",
       "  </thead>\n",
       "  <tbody>\n",
       "    <tr>\n",
       "      <td>0</td>\n",
       "      <td>1</td>\n",
       "      <td>it was Good restaurant</td>\n",
       "    </tr>\n",
       "    <tr>\n",
       "      <td>1</td>\n",
       "      <td>0</td>\n",
       "      <td>they serve Bad food</td>\n",
       "    </tr>\n",
       "    <tr>\n",
       "      <td>2</td>\n",
       "      <td>1</td>\n",
       "      <td>food was tasty</td>\n",
       "    </tr>\n",
       "    <tr>\n",
       "      <td>3</td>\n",
       "      <td>1</td>\n",
       "      <td>service was good</td>\n",
       "    </tr>\n",
       "    <tr>\n",
       "      <td>4</td>\n",
       "      <td>1</td>\n",
       "      <td>it is a hygenic place</td>\n",
       "    </tr>\n",
       "    <tr>\n",
       "      <td>5</td>\n",
       "      <td>0</td>\n",
       "      <td>they provide bad service</td>\n",
       "    </tr>\n",
       "    <tr>\n",
       "      <td>6</td>\n",
       "      <td>0</td>\n",
       "      <td>small and dirty place</td>\n",
       "    </tr>\n",
       "    <tr>\n",
       "      <td>7</td>\n",
       "      <td>1</td>\n",
       "      <td>Prices are okay</td>\n",
       "    </tr>\n",
       "    <tr>\n",
       "      <td>8</td>\n",
       "      <td>0</td>\n",
       "      <td>Too costly</td>\n",
       "    </tr>\n",
       "    <tr>\n",
       "      <td>9</td>\n",
       "      <td>0</td>\n",
       "      <td>they have worst delivery</td>\n",
       "    </tr>\n",
       "    <tr>\n",
       "      <td>10</td>\n",
       "      <td>1</td>\n",
       "      <td>their response was okay</td>\n",
       "    </tr>\n",
       "    <tr>\n",
       "      <td>11</td>\n",
       "      <td>0</td>\n",
       "      <td>service was bad</td>\n",
       "    </tr>\n",
       "  </tbody>\n",
       "</table>\n",
       "</div>"
      ],
      "text/plain": [
       "    sentiment                    review\n",
       "0           1    it was Good restaurant\n",
       "1           0       they serve Bad food\n",
       "2           1            food was tasty\n",
       "3           1          service was good\n",
       "4           1     it is a hygenic place\n",
       "5           0  they provide bad service\n",
       "6           0     small and dirty place\n",
       "7           1           Prices are okay\n",
       "8           0                Too costly\n",
       "9           0  they have worst delivery\n",
       "10          1   their response was okay\n",
       "11          0           service was bad"
      ]
     },
     "execution_count": 2,
     "metadata": {},
     "output_type": "execute_result"
    }
   ],
   "source": [
    "# Reading data\n",
    "file = pd.read_csv('sa.csv')\n",
    "print(file.shape)\n",
    "file.head(12)"
   ]
  },
  {
   "cell_type": "code",
   "execution_count": 3,
   "metadata": {},
   "outputs": [],
   "source": [
    "# Attributes\n",
    "classItems = {} # no. of class items in a class\n",
    "class_priorProb = {} # Prior Probability of each class\n",
    "bow = {} # Bag of words\n",
    "vocab = set() # Vocabulary of the model"
   ]
  },
  {
   "cell_type": "code",
   "execution_count": 4,
   "metadata": {},
   "outputs": [],
   "source": [
    "# Classifying data into classes\n",
    "def classify(file):\n",
    "    classes = [0,1]\n",
    "    data = {}\n",
    "    for i in range(len(file)):\n",
    "        row = file[i]\n",
    "        c = row[0]\n",
    "        if c not in data:\n",
    "            data[c] = list()\n",
    "        data[c].append(row[1])\n",
    "    return data"
   ]
  },
  {
   "cell_type": "code",
   "execution_count": 5,
   "metadata": {},
   "outputs": [],
   "source": [
    "# Cleaning and Spliting the string into words\n",
    "def tokenize(text):\n",
    "    text = re.sub(\"[^a-zA-Z]\", \" \", text, flags=re.IGNORECASE) # every char except alphabets gets replaced with single space \n",
    "    text = re.sub(\"(\\s+)\", \" \", text) # multiple spaces are replaced by single spaces\n",
    "    text = text.lower() # converting cleaned string to lowercase\n",
    "    words = []\n",
    "    for token_word in text.split(): # cleaned string is split into words\n",
    "        words.append(token_word)\n",
    "    return words"
   ]
  },
  {
   "cell_type": "code",
   "execution_count": 6,
   "metadata": {},
   "outputs": [],
   "source": [
    "# Train the model\n",
    "def fit(file):\n",
    "    n = file.shape[0] \n",
    "    data = classify(file.values.tolist())\n",
    "\n",
    "    for c, values in data.items():\n",
    "        classItems[c] = len(values)\n",
    "        class_priorProb[c] = (classItems[c] / n)\n",
    "        bow[c] = defaultdict(lambda: 0)\n",
    "            \n",
    "        for text in values:\n",
    "            counts = Counter(tokenize(text))\n",
    "            for word, count in counts.items():\n",
    "                if word not in vocab:\n",
    "                    vocab.add(word)\n",
    "\n",
    "                bow[c][word] += count"
   ]
  },
  {
   "cell_type": "code",
   "execution_count": 7,
   "metadata": {},
   "outputs": [],
   "source": [
    "def laplace_smoothing(word, text_class):\n",
    "      num = bow[text_class][word] + 1\n",
    "      denom = classItems[text_class] + len(vocab)\n",
    "      return num / denom"
   ]
  },
  {
   "cell_type": "code",
   "execution_count": 8,
   "metadata": {},
   "outputs": [],
   "source": [
    "# Testing the model\n",
    "def predict(X):\n",
    "        result = []\n",
    "        max_prob = []\n",
    "        classes = [0,1]\n",
    "        for text in X:\n",
    "          class_scores = {c : class_priorProb[c] for c in classes}\n",
    "          words = set(tokenize(text))\n",
    "          for word in words:\n",
    "              for c in classes:\n",
    "                likelihood = laplace_smoothing(word, c)\n",
    "                class_scores[c] += likelihood\n",
    "                \n",
    "          result.append(max(class_scores, key = class_scores.get))\n",
    "          max_prob.append(max(class_scores.values()))\n",
    "\n",
    "        return result, max_prob"
   ]
  },
  {
   "cell_type": "markdown",
   "metadata": {},
   "source": [
    "### 0 : Bad sentiment , 1 : Good sentiment"
   ]
  },
  {
   "cell_type": "code",
   "execution_count": 9,
   "metadata": {},
   "outputs": [
    {
     "data": {
      "text/plain": [
       "([1, 0], [0.8823529411764707, 0.7647058823529412])"
      ]
     },
     "execution_count": 9,
     "metadata": {},
     "output_type": "execute_result"
    }
   ],
   "source": [
    "# Running.../\n",
    "fit(file)\n",
    "test = ['this is the good food i have ever ate.',\n",
    "        'bad place i ever found']\n",
    "predict(test)"
   ]
  }
 ],
 "metadata": {
  "kernelspec": {
   "display_name": "Python 3",
   "language": "python",
   "name": "python3"
  },
  "language_info": {
   "codemirror_mode": {
    "name": "ipython",
    "version": 3
   },
   "file_extension": ".py",
   "mimetype": "text/x-python",
   "name": "python",
   "nbconvert_exporter": "python",
   "pygments_lexer": "ipython3",
   "version": "3.7.4"
  }
 },
 "nbformat": 4,
 "nbformat_minor": 2
}
