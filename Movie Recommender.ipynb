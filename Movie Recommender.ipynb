{
 "cells": [
  {
   "cell_type": "markdown",
   "metadata": {},
   "source": [
    "## Movie Recommender using KNN algorithm"
   ]
  },
  {
   "cell_type": "code",
   "execution_count": 1,
   "metadata": {},
   "outputs": [
    {
     "name": "stdout",
     "output_type": "stream",
     "text": [
      "| 12 Years a Slave\n",
      "| Hacksaw Ridge\n",
      "| Queen of Katwe\n",
      "| The Wind Rises\n",
      "| A Beautiful Mind\n"
     ]
    }
   ],
   "source": [
    "from knn_algorithm import knn, euclideanDistance\n",
    "\n",
    "def recommend_movies(movie_query, k):\n",
    "    raw_data = []\n",
    "    with open('movies_recommendation.csv', 'r') as movies_data:\n",
    "        # Discard the first line(headings)\n",
    "        next(movies_data)\n",
    "\n",
    "        # Read the data into memory\n",
    "        for line in movies_data.readlines():\n",
    "            data_row = line.strip().split(',')\n",
    "            raw_data.append(data_row)\n",
    "            \n",
    "            \n",
    "    # Pick the relevant columns and convert the numeric columns to numbers since they were read in as strings\n",
    "    movies_recommendation_data = []\n",
    "    \n",
    "    for row in raw_data:\n",
    "        data_row = list(map(float, row[2:]))\n",
    "        movies_recommendation_data.append(data_row)\n",
    "        \n",
    "    # Use the KNN algorithm to get the 5 movies that are most similar to the movie query.\n",
    "    recommendation_indices = knn(movies_recommendation_data, movie_query, k)\n",
    "   \n",
    "    movie_recommendations = []\n",
    "    \n",
    "    for distance, index in recommendation_indices:\n",
    "        movie_recommendations.append(raw_data[index])\n",
    "\n",
    "    return movie_recommendations\n",
    "\n",
    "if __name__ == '__main__':\n",
    "    the_post = [7.2, 1, 1, 0, 0, 0, 0, 1, 0] # feature vector for The Post\n",
    "    recommended_movies = recommend_movies(the_post, 5)\n",
    "\n",
    "    # Print recommended movie titles\n",
    "    for recommendation in recommended_movies:\n",
    "        print(\"| \"+ recommendation[1])"
   ]
  }
 ],
 "metadata": {
  "kernelspec": {
   "display_name": "Python 3",
   "language": "python",
   "name": "python3"
  },
  "language_info": {
   "codemirror_mode": {
    "name": "ipython",
    "version": 3
   },
   "file_extension": ".py",
   "mimetype": "text/x-python",
   "name": "python",
   "nbconvert_exporter": "python",
   "pygments_lexer": "ipython3",
   "version": "3.7.4"
  }
 },
 "nbformat": 4,
 "nbformat_minor": 2
}
